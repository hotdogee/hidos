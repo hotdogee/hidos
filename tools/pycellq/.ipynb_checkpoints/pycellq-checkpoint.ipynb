{
 "cells": [
  {
   "cell_type": "code",
   "execution_count": 39,
   "metadata": {
    "collapsed": false
   },
   "outputs": [],
   "source": [
    "import numpy as np\n",
    "import pylab\n",
    "import mahotas as mh\n",
    "import matplotlib.pyplot as plt\n",
    "from sklearn.cluster import KMeans\n",
    "from sklearn.metrics import pairwise_distances_argmin\n",
    "from sklearn.datasets import load_sample_image\n",
    "from sklearn.utils import shuffle\n",
    "from time import time\n",
    "from skimage.morphology import erosion, dilation, opening, closing, white_tophat\n",
    "from skimage.morphology import black_tophat, skeletonize, convex_hull_image\n",
    "from skimage.morphology import disk, remove_small_objects, reconstruction\n",
    "from skimage import img_as_float, img_as_uint, img_as_ubyte, img_as_int\n",
    "from skimage.exposure import rescale_intensity"
   ]
  },
  {
   "cell_type": "code",
   "execution_count": 5,
   "metadata": {
    "collapsed": false
   },
   "outputs": [],
   "source": [
    "img3 = mh.imread('IMG_0168.JPG')\n",
    "pylab.imshow(img3)\n",
    "pylab.gray()\n",
    "pylab.show()"
   ]
  },
  {
   "cell_type": "code",
   "execution_count": 3,
   "metadata": {
    "collapsed": false
   },
   "outputs": [
    {
     "name": "stdout",
     "output_type": "stream",
     "text": [
      "(2432L, 3648L, 3L)\n",
      "uint8\n",
      "255\n",
      "10\n"
     ]
    }
   ],
   "source": [
    "print img3.shape\n",
    "print img3.dtype\n",
    "print img3.max()\n",
    "print img3.min()"
   ]
  },
  {
   "cell_type": "code",
   "execution_count": null,
   "metadata": {
    "collapsed": false
   },
   "outputs": [],
   "source": [
    "n_colors = 6\n",
    "img3k = np.array(img3, dtype=np.float64) / 255\n",
    "\n",
    "# Load Image and transform to a 2D numpy array.\n",
    "w, h, d = original_shape = tuple(img3k.shape)\n",
    "assert d == 3\n",
    "image_array = np.reshape(img3k, (w * h, d))\n",
    "\n",
    "print(\"Fitting model on a small sub-sample of the data\")\n",
    "t0 = time()\n",
    "image_array_sample = shuffle(image_array, random_state=0)[:100000]\n",
    "kmeans = KMeans(n_clusters=n_colors, random_state=0).fit(image_array_sample)\n",
    "print(\"done in %0.3fs.\" % (time() - t0))\n",
    "\n",
    "# Get labels for all points\n",
    "print(\"Predicting color indices on the full image (k-means)\")\n",
    "t0 = time()\n",
    "labels = kmeans.predict(image_array)\n",
    "print(\"done in %0.3fs.\" % (time() - t0))\n",
    "\n",
    "\n",
    "def recreate_image(codebook, labels, w, h):\n",
    "    \"\"\"Recreate the (compressed) image from the code book & labels\"\"\"\n",
    "    d = codebook.shape[1]\n",
    "    image = np.zeros((w, h, d))\n",
    "    label_idx = 0\n",
    "    for i in range(w):\n",
    "        for j in range(h):\n",
    "            image[i][j] = codebook[labels[label_idx]]\n",
    "            label_idx += 1\n",
    "    return image"
   ]
  },
  {
   "cell_type": "code",
   "execution_count": null,
   "metadata": {
    "collapsed": false
   },
   "outputs": [],
   "source": [
    "#print kmeans.cluster_centers_\n",
    "cb = [i*(1./n_colors) for i in range(n_colors)]\n",
    "cb1 = np.array(zip(cb,cb,cb))\n",
    "cb1[0] = np.array([1,0,0])\n",
    "cb1[1] = np.array([0,1,0])\n",
    "cb1[2] = np.array([0,0,1])\n",
    "cb1[3] = np.array([1,1,0])\n",
    "cb1[4] = np.array([0,1,1])\n",
    "cb1[5] = np.array([1,0,1])\n",
    "#cb1[6] = np.array([1,0,0])\n",
    "print cb1\n",
    "plt.figure(2)\n",
    "plt.clf()\n",
    "ax = plt.axes([0, 0, 1, 1])\n",
    "plt.axis('off')\n",
    "plt.title('Quantized image (K-Means)')\n",
    "plt.imshow(recreate_image(cb1, labels, w, h))\n",
    "plt.show()"
   ]
  },
  {
   "cell_type": "code",
   "execution_count": null,
   "metadata": {
    "collapsed": false
   },
   "outputs": [],
   "source": [
    "# Display all results, alongside original image\n",
    "plt.figure(1)\n",
    "plt.clf()\n",
    "ax = plt.axes([0, 0, 1, 1])\n",
    "plt.axis('off')\n",
    "plt.title('Original image')\n",
    "plt.imshow(img3)\n",
    "\n",
    "plt.figure(2)\n",
    "plt.clf()\n",
    "ax = plt.axes([0, 0, 1, 1])\n",
    "plt.axis('off')\n",
    "plt.title('Quantized image (K-Means)')\n",
    "plt.imshow(recreate_image(kmeans.cluster_centers_, labels, w, h))\n",
    "plt.show()"
   ]
  },
  {
   "cell_type": "code",
   "execution_count": null,
   "metadata": {
    "collapsed": false
   },
   "outputs": [],
   "source": [
    "plt.figure(2)\n",
    "plt.clf()\n",
    "ax = plt.axes([0, 0, 1, 1])\n",
    "plt.axis('off')\n",
    "plt.title('Quantized image (K-Means)')\n",
    "plt.imshow(recreate_image(cb1, labels, w, h))\n",
    "plt.show()"
   ]
  },
  {
   "cell_type": "code",
   "execution_count": 4,
   "metadata": {
    "collapsed": false
   },
   "outputs": [
    {
     "name": "stdout",
     "output_type": "stream",
     "text": [
      "(2432L, 3648L)\n",
      "uint8\n",
      "254\n",
      "15\n"
     ]
    }
   ],
   "source": [
    "img3g = mh.colors.rgb2grey(img3, dtype=np.uint8)\n",
    "pylab.imshow(img3g)\n",
    "pylab.show()\n",
    "print img3g.shape\n",
    "print img3g.dtype\n",
    "print img3g.max()\n",
    "print img3g.min()"
   ]
  },
  {
   "cell_type": "code",
   "execution_count": null,
   "metadata": {
    "collapsed": false
   },
   "outputs": [],
   "source": [
    "image = img_as_float(img3g)\n",
    "h = 0.2\n",
    "seed = image + h\n",
    "mask = image\n",
    "dilated = reconstruction(seed, mask, method='erosion')\n",
    "hdome = image - dilated\n",
    "\n",
    "it = img_as_ubyte(rescale_intensity(hdome))\n",
    "T = mh.thresholding.otsu(it)\n",
    "print T\n",
    "hdome2 = it > T\n",
    "pylab.imshow(hdome2)\n",
    "pylab.show()"
   ]
  },
  {
   "cell_type": "code",
   "execution_count": 43,
   "metadata": {
    "collapsed": false
   },
   "outputs": [
    {
     "name": "stdout",
     "output_type": "stream",
     "text": [
      "187\n",
      "[[117 117 125 ..., 133 133 133]\n",
      " [117 117 125 ..., 129 129 129]\n",
      " [113 125 125 ..., 129 125 121]\n",
      " ..., \n",
      " [133 137 137 ..., 145 145 149]\n",
      " [149 149 137 ..., 141 137 133]\n",
      " [141 145 133 ..., 137 141 141]]\n",
      "[[False False False ..., False False False]\n",
      " [False False False ..., False False False]\n",
      " [False False False ..., False False False]\n",
      " ..., \n",
      " [False False False ..., False False False]\n",
      " [False False False ..., False False False]\n",
      " [False False False ..., False False False]]\n"
     ]
    }
   ],
   "source": [
    "image = img_as_float(img3g)\n",
    "h = 0.2\n",
    "seed = image - h\n",
    "mask = image\n",
    "dilated = reconstruction(seed, mask, method='dilation')\n",
    "hdome = image - dilated\n",
    "\n",
    "it = img_as_ubyte(rescale_intensity(hdome))\n",
    "T = mh.thresholding.otsu(it)\n",
    "print T\n",
    "hdome2 = it > T\n",
    "pylab.imshow(hdome2)\n",
    "pylab.show()"
   ]
  },
  {
   "cell_type": "code",
   "execution_count": null,
   "metadata": {
    "collapsed": false
   },
   "outputs": [],
   "source": [
    "T = mh.thresholding.otsu(img3g)\n",
    "print T\n",
    "img3o = img3g > T\n",
    "pylab.imshow(img3o)\n",
    "pylab.show()"
   ]
  },
  {
   "cell_type": "code",
   "execution_count": null,
   "metadata": {
    "collapsed": false
   },
   "outputs": [],
   "source": [
    "pylab.gray()\n",
    "selem = disk(5)\n",
    "eroded = closing(img3o, selem)\n",
    "\n",
    "pylab.figure(1)\n",
    "pylab.clf()\n",
    "pylab.imshow(eroded)\n",
    "\n",
    "selem = disk(20)\n",
    "bt = black_tophat(eroded, selem)\n",
    "pylab.figure(2)\n",
    "pylab.clf()\n",
    "pylab.imshow(bt)\n",
    "\n",
    "selem = disk(5)\n",
    "bt2 = remove_small_objects(bt, 100)\n",
    "pylab.figure(3)\n",
    "pylab.clf()\n",
    "pylab.imshow(bt2)\n",
    "\n",
    "\n",
    "pylab.show()"
   ]
  },
  {
   "cell_type": "code",
   "execution_count": null,
   "metadata": {
    "collapsed": false
   },
   "outputs": [],
   "source": [
    "\n",
    "\n",
    "selem = disk(20)\n",
    "bt = erosion(bt, selem)\n",
    "pylab.figure(3)\n",
    "pylab.clf()\n",
    "pylab.imshow(bt)\n",
    "\n",
    "\n",
    "pylab.show()"
   ]
  },
  {
   "cell_type": "code",
   "execution_count": null,
   "metadata": {
    "collapsed": false
   },
   "outputs": [],
   "source": [
    "img3f = mh.gaussian_filter(img3g, 8)\n",
    "pylab.imshow(img3f)\n",
    "pylab.show()"
   ]
  },
  {
   "cell_type": "code",
   "execution_count": null,
   "metadata": {
    "collapsed": false
   },
   "outputs": [],
   "source": [
    "rmax = mh.regmax(img3f)\n",
    "pylab.imshow(rmax)\n",
    "pylab.show()"
   ]
  },
  {
   "cell_type": "code",
   "execution_count": null,
   "metadata": {
    "collapsed": true
   },
   "outputs": [],
   "source": [
    "\n",
    "pylab.imshow(mh.overlay(img3g, red=rmax))\n",
    "pylab.show()"
   ]
  },
  {
   "cell_type": "code",
   "execution_count": null,
   "metadata": {
    "collapsed": true
   },
   "outputs": [],
   "source": [
    "img3ch = mh.polygon.fill_convexhull(img3o)\n",
    "pylab.imshow(img3ch)\n",
    "pylab.show()"
   ]
  },
  {
   "cell_type": "code",
   "execution_count": null,
   "metadata": {
    "collapsed": true
   },
   "outputs": [],
   "source": []
  }
 ],
 "metadata": {
  "kernelspec": {
   "display_name": "Python 2",
   "language": "python",
   "name": "python2"
  },
  "language_info": {
   "codemirror_mode": {
    "name": "ipython",
    "version": 2
   },
   "file_extension": ".py",
   "mimetype": "text/x-python",
   "name": "python",
   "nbconvert_exporter": "python",
   "pygments_lexer": "ipython2",
   "version": "2.7.10"
  }
 },
 "nbformat": 4,
 "nbformat_minor": 0
}
